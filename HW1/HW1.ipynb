{
  "nbformat": 4,
  "nbformat_minor": 0,
  "metadata": {
    "colab": {
      "name": "Untitled4.ipynb",
      "provenance": [],
      "collapsed_sections": []
    },
    "kernelspec": {
      "name": "python3",
      "display_name": "Python 3"
    },
    "language_info": {
      "name": "python"
    }
  },
  "cells": [
    {
      "cell_type": "markdown",
      "metadata": {
        "id": "jr3GtqL8dSKw"
      },
      "source": [
        "Задача 1"
      ]
    },
    {
      "cell_type": "code",
      "metadata": {
        "colab": {
          "base_uri": "https://localhost:8080/"
        },
        "id": "uagVe9KF4xto",
        "outputId": "d85b2362-2c19-4bed-b9aa-529fbbad1639"
      },
      "source": [
        "import numpy as np\n",
        "\n",
        "a = np.array([[4, 4, 5, 5], [2, 0, 3, -1], [1, 1, -5, 0], [0, 3, 2, 0]])\n",
        "b = np.array([0, 10, -10, 1])\n",
        "x = np.linalg.solve(a, b)\n",
        "x"
      ],
      "execution_count": null,
      "outputs": [
        {
          "output_type": "execute_result",
          "data": {
            "text/plain": [
              "array([ 1., -1.,  2., -2.])"
            ]
          },
          "metadata": {},
          "execution_count": 37
        }
      ]
    },
    {
      "cell_type": "code",
      "metadata": {
        "colab": {
          "base_uri": "https://localhost:8080/"
        },
        "id": "j5t8wRDF6PIL",
        "outputId": "d3fb8af2-b806-45df-a439-ee7f99372d2c"
      },
      "source": [
        "x_left = np.linalg.solve(a, b - 0.1)\n",
        "x_left"
      ],
      "execution_count": null,
      "outputs": [
        {
          "output_type": "execute_result",
          "data": {
            "text/plain": [
              "array([ 0.96068966, -1.03655172,  2.00482759, -1.96413793])"
            ]
          },
          "metadata": {},
          "execution_count": 38
        }
      ]
    },
    {
      "cell_type": "code",
      "metadata": {
        "colab": {
          "base_uri": "https://localhost:8080/"
        },
        "id": "ZJvyaTiK6O9j",
        "outputId": "5346593e-7ece-4638-c90c-185a737b44e2"
      },
      "source": [
        "x_right = np.linalg.solve(a, b + 0.1)\n",
        "x_right"
      ],
      "execution_count": null,
      "outputs": [
        {
          "output_type": "execute_result",
          "data": {
            "text/plain": [
              "array([ 1.03931034, -0.96344828,  1.99517241, -2.03586207])"
            ]
          },
          "metadata": {},
          "execution_count": 39
        }
      ]
    },
    {
      "cell_type": "code",
      "metadata": {
        "colab": {
          "base_uri": "https://localhost:8080/"
        },
        "id": "OX2hW3oFa-Ze",
        "outputId": "ab4c2d2a-40cc-4f72-d786-539dc229d4a1"
      },
      "source": [
        "error_left = np.linalg.norm(x - x_left) / np.linalg.norm(x)\n",
        "error_left"
      ],
      "execution_count": null,
      "outputs": [
        {
          "output_type": "execute_result",
          "data": {
            "text/plain": [
              "0.02047126114090569"
            ]
          },
          "metadata": {},
          "execution_count": 40
        }
      ]
    },
    {
      "cell_type": "code",
      "metadata": {
        "colab": {
          "base_uri": "https://localhost:8080/"
        },
        "id": "CTNwJ2a7Wfv8",
        "outputId": "1d4dda94-0304-4085-f64a-d2c2c5874803"
      },
      "source": [
        "error_left_abs = np.linalg.norm(x - x_left)\n",
        "error_left_abs"
      ],
      "execution_count": null,
      "outputs": [
        {
          "output_type": "execute_result",
          "data": {
            "text/plain": [
              "0.0647358117813591"
            ]
          },
          "metadata": {},
          "execution_count": 41
        }
      ]
    },
    {
      "cell_type": "code",
      "metadata": {
        "colab": {
          "base_uri": "https://localhost:8080/"
        },
        "id": "RDzpB3gXcvlf",
        "outputId": "9171e3d0-c7b4-479a-9253-8e33be3bad66"
      },
      "source": [
        "error_right = np.linalg.norm(x - x_right) / np.linalg.norm(x)\n",
        "error_right"
      ],
      "execution_count": null,
      "outputs": [
        {
          "output_type": "execute_result",
          "data": {
            "text/plain": [
              "0.0204712611409059"
            ]
          },
          "metadata": {},
          "execution_count": 44
        }
      ]
    },
    {
      "cell_type": "code",
      "metadata": {
        "colab": {
          "base_uri": "https://localhost:8080/"
        },
        "id": "Lq8eizXkWqvF",
        "outputId": "587c93a9-b4eb-4d95-cb14-0853b8fcb4da"
      },
      "source": [
        "error_right_abs = np.linalg.norm(x - x_right)\n",
        "error_right_abs"
      ],
      "execution_count": null,
      "outputs": [
        {
          "output_type": "execute_result",
          "data": {
            "text/plain": [
              "0.06473581178135977"
            ]
          },
          "metadata": {},
          "execution_count": 42
        }
      ]
    },
    {
      "cell_type": "markdown",
      "metadata": {
        "id": "OkfbtW9GdMeu"
      },
      "source": [
        "Задача 2"
      ]
    },
    {
      "cell_type": "code",
      "metadata": {
        "colab": {
          "base_uri": "https://localhost:8080/"
        },
        "id": "ap9-10OnvZQr",
        "outputId": "a380b045-b599-42e0-ce99-5999d3fe0b27"
      },
      "source": [
        "import numpy as np\n",
        "\n",
        "a = np.array([[2, -1, 3, 2], [3, 3, 3, 2], [3, -1, -1, -2], [3, -1, 3, -1]])\n",
        "b = np.array([4, 6, 6, 6])\n",
        "x = np.linalg.solve(a, b)\n",
        "x"
      ],
      "execution_count": null,
      "outputs": [
        {
          "output_type": "execute_result",
          "data": {
            "text/plain": [
              "array([ 2.00000000e+00, -6.24500451e-17, -2.08166817e-17,  8.32667268e-17])"
            ]
          },
          "metadata": {},
          "execution_count": 8
        }
      ]
    },
    {
      "cell_type": "code",
      "metadata": {
        "colab": {
          "base_uri": "https://localhost:8080/"
        },
        "id": "-8nKcpKNvZQt",
        "outputId": "b9771e66-104c-4abf-91b0-55edb4035a8c"
      },
      "source": [
        "x_left = np.linalg.solve(a, b - 0.1)\n",
        "x_left"
      ],
      "execution_count": null,
      "outputs": [
        {
          "output_type": "execute_result",
          "data": {
            "text/plain": [
              "array([ 1.9625  ,  0.009375,  0.003125, -0.0125  ])"
            ]
          },
          "metadata": {},
          "execution_count": 3
        }
      ]
    },
    {
      "cell_type": "code",
      "metadata": {
        "colab": {
          "base_uri": "https://localhost:8080/"
        },
        "id": "5GQ8FzPKvZQt",
        "outputId": "c19728ec-d830-469a-bebf-f7a326e6661a"
      },
      "source": [
        "x_right = np.linalg.solve(a, b + 0.1)\n",
        "x_right"
      ],
      "execution_count": null,
      "outputs": [
        {
          "output_type": "execute_result",
          "data": {
            "text/plain": [
              "array([ 2.0375  , -0.009375, -0.003125,  0.0125  ])"
            ]
          },
          "metadata": {},
          "execution_count": 4
        }
      ]
    },
    {
      "cell_type": "code",
      "metadata": {
        "colab": {
          "base_uri": "https://localhost:8080/"
        },
        "id": "OuxFrugBvZQt",
        "outputId": "9f919a0f-de90-4b14-8ad4-fb80f88d4ea8"
      },
      "source": [
        "error_left = np.linalg.norm(x - x_left) / np.linalg.norm(x)\n",
        "error_left"
      ],
      "execution_count": null,
      "outputs": [
        {
          "output_type": "execute_result",
          "data": {
            "text/plain": [
              "0.020372507516258246"
            ]
          },
          "metadata": {},
          "execution_count": 5
        }
      ]
    },
    {
      "cell_type": "code",
      "metadata": {
        "colab": {
          "base_uri": "https://localhost:8080/"
        },
        "id": "DZQeDvbQvZQu",
        "outputId": "bf4eea4e-1341-44ce-831f-11714442eedb"
      },
      "source": [
        "error_right = np.linalg.norm(x - x_right) / np.linalg.norm(x)\n",
        "error_right"
      ],
      "execution_count": null,
      "outputs": [
        {
          "output_type": "execute_result",
          "data": {
            "text/plain": [
              "0.02037250751625831"
            ]
          },
          "metadata": {},
          "execution_count": 6
        }
      ]
    },
    {
      "cell_type": "markdown",
      "metadata": {
        "id": "sH6vdwXbwuIP"
      },
      "source": [
        "Задание 3\n"
      ]
    },
    {
      "cell_type": "code",
      "metadata": {
        "colab": {
          "base_uri": "https://localhost:8080/"
        },
        "id": "snQCpMtQyKN8",
        "outputId": "c84d9df2-7525-47af-ea0b-c9cd8aa18c06"
      },
      "source": [
        "import numpy as np\n",
        "\n",
        "a = np.array([[1, 2, -4], [2, 1, -5], [1, -1, -1]])\n",
        "b = np.array([1, -1, -2])\n",
        "\n",
        "c = a + 0.01\n",
        "\n",
        "d = a - 0.01\n",
        "\n",
        "c_inv = np.linalg.inv(c)\n",
        "d_inv = np.linalg.inv(d)\n",
        "\n",
        "norm_c = c_inv.max()\n",
        "print(norm_c)\n",
        "\n",
        "norm_d = d_inv.max()\n",
        "print(norm_d)"
      ],
      "execution_count": null,
      "outputs": [
        {
          "output_type": "stream",
          "name": "stdout",
          "text": [
            "49.999999999999474\n",
            "50.49999999999947\n"
          ]
        }
      ]
    },
    {
      "cell_type": "markdown",
      "metadata": {
        "id": "ctmnU-UIGsdO"
      },
      "source": [
        "Задача 4"
      ]
    },
    {
      "cell_type": "code",
      "metadata": {
        "colab": {
          "base_uri": "https://localhost:8080/",
          "height": 297
        },
        "id": "EOW4jiWZGt6F",
        "outputId": "dbe8c1c6-9f2e-4f9c-d2db-8a91bbdb2ea9"
      },
      "source": [
        "import numpy as np\n",
        "import matplotlib.pyplot as plt\n",
        "\n",
        "def jacobiZero(A,b):\n",
        "    x = np.array([0, 0, 0])\n",
        "    \n",
        "    D = np.diag(a)\n",
        "    R = a - np.diagflat(D)\n",
        "                                                                                                                                                                          \n",
        "    for i in range(iter):\n",
        "         x = (b - np.dot(R,x)) / D\n",
        "    return x\n",
        "\n",
        "\n",
        "def jacobiZeroSeq(A,b):\n",
        "    x = np.array([0, 0, 0])\n",
        "    arr = []\n",
        "    \n",
        "    D = np.diag(a)\n",
        "    R = a - np.diagflat(D)\n",
        "                                                                                                                                                                          \n",
        "    for i in range(iter):\n",
        "         x = (b - np.dot(R,x)) / D\n",
        "         arr.append([i, x])\n",
        "    return arr\n",
        "\n",
        "\n",
        "def jacobiOne(A,b):\n",
        "    x = np.array([1, 1, 1])\n",
        "    \n",
        "    D = np.diag(a)\n",
        "    R = a - np.diagflat(D)\n",
        "                                                                                                                                                                          \n",
        "    for i in range(iter):\n",
        "         x = (b - np.dot(R,x)) / D\n",
        "    return x\n",
        "\n",
        "\n",
        "def jacobiOneSeq(A,b):\n",
        "    x = np.array([1, 1, 1])\n",
        "    arr = []\n",
        "    D = np.diag(a)\n",
        "    R = a - np.diagflat(D)\n",
        "                                                                                                                                                                          \n",
        "    for i in range(iter):\n",
        "         x = (b - np.dot(R,x)) / D\n",
        "         arr.append([i, x])\n",
        "    return arr\n",
        "\n",
        "def otnPogr(exactAns, myAns):\n",
        "  aval = abs((exactAns[0] - myAns[1][0]) / exactAns[0])\n",
        "  bval = abs((exactAns[1] - myAns[1][1]) / exactAns[1])\n",
        "  cval = abs((exactAns[2] - myAns[1][2]) / exactAns[2])\n",
        "  return max(aval, bval, cval)\n",
        "\n",
        "\n",
        "a = np.array([[8, 1, -4], [2, -6, 1], [-1, 1, 4]])\n",
        "b = np.array([6, -9, 5])\n",
        "x = np.linalg.solve(a, b)\n",
        "\n",
        "iter = 10\n",
        "\n",
        "seqOneNine = []\n",
        "for i in range(1, iter + 1):\n",
        "  seqOneNine.append(i)\n",
        "\n",
        "ansZero = jacobiZero(a, b)\n",
        "seqZero = jacobiZeroSeq(a, b)\n",
        "otnPogrst = []\n",
        "\n",
        "ansOne = jacobiOne(a, b)\n",
        "seqOne = jacobiOneSeq\n",
        "\n",
        "for i in range(0, 10):\n",
        "  toAppend = otnPogr(x, seqZero[i])\n",
        "  otnPogrst.append(toAppend)\n",
        "\n",
        "\n",
        "plt.xlabel(\"Номер итерации\")\n",
        "plt.ylabel(\"Относительная погрешность\")\n",
        "plt.plot(seqOneNine, otnPogrst)\n",
        "\n",
        "\n",
        "\n",
        "\n",
        "\n",
        "\n",
        "\n"
      ],
      "execution_count": 29,
      "outputs": [
        {
          "output_type": "execute_result",
          "data": {
            "text/plain": [
              "[<matplotlib.lines.Line2D at 0x7f6d08644c50>]"
            ]
          },
          "metadata": {},
          "execution_count": 29
        },
        {
          "output_type": "display_data",
          "data": {
            "image/png": "[encoded data removed]",
            "text/plain": [
              "<Figure size 432x288 with 1 Axes>"
            ]
          },
          "metadata": {
            "needs_background": "light"
          }
        }
      ]
    }
  ]
}